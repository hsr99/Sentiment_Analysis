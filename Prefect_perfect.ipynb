{
 "cells": [
  {
   "cell_type": "code",
   "execution_count": 1,
   "id": "6242204c-00b7-4fee-9915-fa488651d0ad",
   "metadata": {},
   "outputs": [],
   "source": [
    "import pandas as pd\n",
    "import re\n",
    "import nltk\n",
    "from nltk.corpus import stopwords\n",
    "from nltk.stem import WordNetLemmatizer\n",
    "from sklearn.model_selection import train_test_split\n",
    "from sklearn.pipeline import Pipeline\n",
    "from sklearn.feature_extraction.text import TfidfVectorizer\n",
    "from sklearn.ensemble import RandomForestClassifier\n",
    "from sklearn.linear_model import LogisticRegression\n",
    "from sklearn.svm import SVC\n",
    "from sklearn.preprocessing import StandardScaler\n",
    "from sklearn.model_selection import GridSearchCV\n",
    "from sklearn.metrics import f1_score, accuracy_score\n",
    "import mlflow\n",
    "import mlflow.sklearn\n"
   ]
  },
  {
   "cell_type": "code",
   "execution_count": 2,
   "id": "a7c73d17-4788-4c86-b6bd-602626fe4bb5",
   "metadata": {},
   "outputs": [
    {
     "name": "stderr",
     "output_type": "stream",
     "text": [
      "[nltk_data] Downloading package stopwords to\n",
      "[nltk_data]     C:\\Users\\keert\\AppData\\Roaming\\nltk_data...\n",
      "[nltk_data]   Package stopwords is already up-to-date!\n",
      "[nltk_data] Downloading package wordnet to\n",
      "[nltk_data]     C:\\Users\\keert\\AppData\\Roaming\\nltk_data...\n",
      "[nltk_data]   Package wordnet is already up-to-date!\n"
     ]
    },
    {
     "data": {
      "text/plain": [
       "True"
      ]
     },
     "execution_count": 2,
     "metadata": {},
     "output_type": "execute_result"
    }
   ],
   "source": [
    "# Download NLTK resources\n",
    "nltk.download('stopwords')\n",
    "nltk.download('wordnet')\n"
   ]
  },
  {
   "cell_type": "code",
   "execution_count": 3,
   "id": "91e3b308-af43-48ae-b76e-ace7fc4ba763",
   "metadata": {},
   "outputs": [],
   "source": [
    "def preprocess_text(text):\n",
    "    if pd.notnull(text):\n",
    "        text = str(text).lower()\n",
    "        text = re.sub(r'[^a-zA-Z\\s]', '', text)\n",
    "        tokens = text.split()\n",
    "        stop_words = set(stopwords.words('english'))\n",
    "        tokens = [word for word in tokens if word not in stop_words]\n",
    "        lemmatizer = WordNetLemmatizer()\n",
    "        tokens = [lemmatizer.lemmatize(word) for word in tokens]\n",
    "        clean_text = ' '.join(tokens)\n",
    "        return clean_text\n",
    "    else:\n",
    "        return ''"
   ]
  },
  {
   "cell_type": "code",
   "execution_count": 4,
   "id": "13f49366-7e6a-4993-9201-0dc8d6c2e107",
   "metadata": {},
   "outputs": [],
   "source": [
    "def preprocess_and_split_data(df, text_column, target_column, test_size=0.2, random_state=42):\n",
    "    df['Cleaned Text'] = df[text_column].apply(preprocess_text)\n",
    "    threshold = 3\n",
    "    df['Sentiment'] = df[target_column].apply(lambda x: 1 if x >= threshold else 0)\n",
    "    X_train, X_test, y_train, y_test = train_test_split(df['Cleaned Text'], df['Sentiment'], test_size=test_size, random_state=random_state)\n",
    "    return X_train, X_test, y_train, y_test"
   ]
  },
  {
   "cell_type": "code",
   "execution_count": 5,
   "id": "1b4bcb2f-f377-4b7e-83ec-2f3049886af5",
   "metadata": {},
   "outputs": [],
   "source": [
    "def train_model(X_train, y_train, pipeline, param_grid, scoring='f1_weighted', cv=5):\n",
    "    grid_search = GridSearchCV(pipeline, param_grid=param_grid, scoring=scoring, cv=cv, return_train_score=True, verbose=1)\n",
    "    with mlflow.start_run() as run:\n",
    "        %time grid_search.fit(X_train, y_train)\n",
    "    return grid_search"
   ]
  },
  {
   "cell_type": "code",
   "execution_count": 6,
   "id": "bf04af27-2ffa-48be-9710-6b60cadd7eb2",
   "metadata": {},
   "outputs": [],
   "source": [
    "def evaluate_model(model, X_test, y_test, X_train,y_train):\n",
    "    y_test_pred = model.predict(X_test)\n",
    "    y_train_pred = model.predict(X_train)\n",
    "    return {\n",
    "        'F1 Score': f1_score(y_test, y_test_pred, average='weighted'),\n",
    "        'Accuracy': accuracy_score(y_test, y_test_pred),\n",
    "        'Train Accuracy': accuracy_score(y_train, y_train_pred),\n",
    "    }"
   ]
  },
  {
   "cell_type": "code",
   "execution_count": 7,
   "id": "9c4fee23-8ff5-4407-b102-fa040d88e055",
   "metadata": {},
   "outputs": [],
   "source": [
    "def train_and_evaluate_models(X_train, y_train, X_test, y_test, pipelines, param_grids):\n",
    "    results = {}\n",
    "    for model_name, pipeline in pipelines.items():\n",
    "        param_grid = param_grids[model_name]\n",
    "        grid_search = train_model(X_train, y_train, pipeline, param_grid)\n",
    "        results[model_name] = {'grid_search': grid_search}\n",
    "    return results"
   ]
  },
  {
   "cell_type": "code",
   "execution_count": 8,
   "id": "7237b709-4d2f-44f7-bccf-ab5da4b1ea01",
   "metadata": {},
   "outputs": [],
   "source": [
    "def print_results(results, X_test, y_test):\n",
    "    for model_name, metrics in results.items():\n",
    "        print(f\"Metrics for {model_name}:\")\n",
    "        print(\"Best hyperparameters:\", metrics['grid_search'].best_params_)\n",
    "        model = metrics['grid_search'].best_estimator_\n",
    "        evaluation_metrics = evaluate_model(model, X_test, y_test)\n",
    "        for metric, value in evaluation_metrics.items():\n",
    "            print(f\"{metric}: {value}\")\n",
    "        print()"
   ]
  },
  {
   "cell_type": "code",
   "execution_count": 9,
   "id": "e9f7106a-7395-4b45-8d38-8884eb364b7b",
   "metadata": {},
   "outputs": [],
   "source": [
    "def main():\n",
    "    file_path = r\"C:\\Users\\hridy\\Documents\\Innomatics\\Sentiment Analysis\\reviews_data_dump\\reviews_badminton\\data.csv\"\n",
    "    text_column = 'Review text'\n",
    "    target_column = 'Ratings'\n",
    "    \n",
    "    df = pd.read_csv(file_path)\n",
    "    \n",
    "    X_train, X_test, y_train, y_test = preprocess_and_split_data(df, text_column, target_column)\n",
    "\n",
    "    models = {\n",
    "        'Random Forest': RandomForestClassifier(),\n",
    "        'Logistic Regression': LogisticRegression(),\n",
    "        'Support Vector Machine': SVC()\n",
    "    }\n",
    "    \n",
    "    pipelines = {}\n",
    "    for model_name, model in models.items():\n",
    "        pipeline = Pipeline([\n",
    "            ('vectorizer', TfidfVectorizer()),\n",
    "            ('scaler', StandardScaler(with_mean=False)),\n",
    "            ('model', model)\n",
    "        ])\n",
    "        pipelines[model_name] = pipeline\n",
    "\n",
    "    param_grids = {\n",
    "        'Random Forest': {\n",
    "            'vectorizer__ngram_range': [(1, 1), (1, 2)],\n",
    "            'model__n_estimators': [100, 200, 300],\n",
    "            'model__max_depth': [None, 10, 20]\n",
    "        },\n",
    "        'Logistic Regression': {\n",
    "            'vectorizer__ngram_range': [(1, 1), (1, 2)],\n",
    "            'model__C': [0.1, 1.0, 10.0],\n",
    "            'model__solver': ['liblinear', 'lbfgs']\n",
    "        },\n",
    "        'Support Vector Machine': {\n",
    "            'vectorizer__ngram_range': [(1, 1), (1, 2)],\n",
    "            'model__C': [0.1, 1.0, 10.0],\n",
    "            'model__kernel': ['linear', 'rbf']\n",
    "        }\n",
    "    }\n",
    "    \n",
    "    results = train_and_evaluate_models(X_train, y_train, X_test, y_test, pipelines, param_grids)\n",
    "    \n",
    "    print_results(results, X_test, y_test)"
   ]
  },
  {
   "cell_type": "code",
   "execution_count": null,
   "id": "9407b0e4-ddaa-4441-8ff4-d14ed800fe59",
   "metadata": {},
   "outputs": [],
   "source": [
    "if __name__ == \"__main__\":\n",
    "    main()"
   ]
  }
 ],
 "metadata": {
  "kernelspec": {
   "display_name": "Python 3 (ipykernel)",
   "language": "python",
   "name": "python3"
  },
  "language_info": {
   "codemirror_mode": {
    "name": "ipython",
    "version": 3
   },
   "file_extension": ".py",
   "mimetype": "text/x-python",
   "name": "python",
   "nbconvert_exporter": "python",
   "pygments_lexer": "ipython3",
   "version": "3.12.0"
  }
 },
 "nbformat": 4,
 "nbformat_minor": 5
}
